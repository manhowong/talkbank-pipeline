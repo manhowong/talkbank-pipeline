{
 "cells": [
  {
   "cell_type": "markdown",
   "id": "28730923-c694-45c0-a285-c3422945d79b",
   "metadata": {
    "tags": []
   },
   "source": [
    "Install TBDBpy"
   ]
  },
  {
   "cell_type": "code",
   "execution_count": 1,
   "id": "8f257145-e426-4b54-8059-0f07b77520ee",
   "metadata": {},
   "outputs": [],
   "source": [
    "# Uncomment the following line to install TBDBpy\n",
    "# pip install git+https://github.com/TalkBank/TBDBpy.git\n",
    "\n",
    "import tbdb\n",
    "import os\n",
    "import urllib.request\n",
    "from tqdm import tqdm # For progress bar (optional)"
   ]
  },
  {
   "cell_type": "code",
   "execution_count": 13,
   "id": "0f27b9e8-9bae-4c1c-b1d7-4059b3c4b37e",
   "metadata": {},
   "outputs": [
    {
     "name": "stdout",
     "output_type": "stream",
     "text": [
      "5912 files matching the criteria. Here is an example:\n",
      "['path', 'filename', 'languages', 'media', 'date', 'pid', 'designType', 'activityType', 'groupType']\n",
      "['childes/Eng-NA/Bates/Free20/chuck', 'chuck', 'eng', None, None, '11312/c-00015220-1', 'cross', 'toyplay', 'TD']\n"
     ]
    }
   ],
   "source": [
    "############################## User Input ######################################\n",
    "# Enter query terms below. See TBDBPy documentation for more info.\n",
    "query = {\"corpusName\" : \"childes\",\n",
    "         \"corpora\"    : [['childes', 'Eng-NA']],\n",
    "         \"age\"        : [{'from': 0, 'to': 72}]\n",
    "        }\n",
    "\n",
    "# Search for transcript files via TBDBpy\n",
    "candidates = tbdb.getTranscripts(query)\n",
    "print(\"{} files matching the criteria. Here is an example:\" .format(len(candidates['data'])))\n",
    "print(candidates['colHeadings'])\n",
    "print(candidates['data'][2])"
   ]
  },
  {
   "cell_type": "code",
   "execution_count": null,
   "id": "7cfc1771-54ca-454a-a570-294244e13e53",
   "metadata": {},
   "outputs": [],
   "source": [
    "for f in tqdm( range(len(candidates['data'])) ):\n",
    "    # Get download url\n",
    "    file_path = candidates['data'][f][0] + '.cha'\n",
    "    url = 'https://' + query['corpusName'] + '.talkbank.org/data-orig' + file_path.lstrip(query['corpusName'])\n",
    "    # Create destination path\n",
    "    fname = file_path.split(\"/\")[-1]\n",
    "    dest_dir = 'data/'\n",
    "    dest_path = dest_dir + file_path.rstrip(fname)\n",
    "    if not os.path.exists(dest_path):\n",
    "        os.makedirs(dest_path)\n",
    "    # Download file\n",
    "    urllib.request.urlretrieve(url, dest_path + fname)\n",
    "\n",
    "print('Done! Files were downloaded to {}.' .format(dest_dir))"
   ]
  }
 ],
 "metadata": {
  "kernelspec": {
   "display_name": "Python 3 (ipykernel)",
   "language": "python",
   "name": "python3"
  },
  "language_info": {
   "codemirror_mode": {
    "name": "ipython",
    "version": 3
   },
   "file_extension": ".py",
   "mimetype": "text/x-python",
   "name": "python",
   "nbconvert_exporter": "python",
   "pygments_lexer": "ipython3",
   "version": "3.9.7"
  }
 },
 "nbformat": 4,
 "nbformat_minor": 5
}
