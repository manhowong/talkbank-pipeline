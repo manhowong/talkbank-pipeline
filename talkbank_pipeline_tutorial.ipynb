{
 "cells": [
  {
   "cell_type": "markdown",
   "id": "eb152186-996f-4333-88dc-568856819a05",
   "metadata": {
    "tags": []
   },
   "source": [
    "# TalkBank Data Pipeline Tutorial\n",
    "\n",
    "Man Ho Wong  \n",
    "University of Pittsburgh\n",
    "\n",
    "This is a tutorial on gathering and pre-processing TalkBank data using `talkbank_pipeline.ipynb`.\n",
    "\n",
    "In this tutorial, we are interested in data containing child speech or child-directed speech recorded from typically developed children of age 0 to 72 months. In addition, we are only interested in files that contain information about the participant's socio-economic status. We will use this pipeline to search for the files we need and create a large dataset by integrating data from multiple corpora in the CHILDES collection (North American English, Eng-NA) of the TalkBank. Corpora and files will be indexed for easier data retrieval.\n",
    "\n",
    "Here are the major steps of the pipeline:\n",
    "1. Get download URLs for target collection(s)\n",
    "2. Screen for potential datasets in the target collection(s)\n",
    "3. Download potential datasets to local drive\n",
    "4. Search for target files in potential datasets and index them\n",
    "5. Standardize header labels\n",
    "6. Add participant identifier (optional)\n",
    "7. Save the cleaned index table"
   ]
  },
  {
   "cell_type": "markdown",
   "id": "9e2dc480-1a5e-4fbd-ad60-0986ca9b062d",
   "metadata": {
    "jp-MarkdownHeadingCollapsed": true,
    "tags": []
   },
   "source": [
    "### Prerequisites:"
   ]
  },
  {
   "cell_type": "code",
   "execution_count": 38,
   "id": "8e588f08-14db-4304-8146-07f5f2a93b5a",
   "metadata": {
    "tags": []
   },
   "outputs": [],
   "source": [
    "# See README.md for installation of the following packages\n",
    "from bs4 import BeautifulSoup\n",
    "from etc.pittchat import get_age_m as get_age_m # get age in months\n",
    "from etc.pittchat import get_age_d as get_age_d # get age in days\n",
    "import numpy as np\n",
    "import os\n",
    "import pandas as pd\n",
    "import pickle\n",
    "import pylangacq                                # read CHAT files\n",
    "import requests\n",
    "from tqdm import tqdm                           # progress bar (optional)\n",
    "import urllib.request\n",
    "import zipfile\n",
    "\n",
    "# To get all labels of a given field (e.g. 'group')\n",
    "def get_labels(var):\n",
    "    labels_by_corpus = {}\n",
    "    corpus_set = set(data_idx.corpus)\n",
    "    for c in corpus_set:\n",
    "        labels_by_corpus[c] = set(data_idx[var][data_idx.corpus==c])\n",
    "    return labels_by_corpus\n",
    "\n",
    "# Pretty printing for better readability:\n",
    "# - print dict in compact format instead of one item per line\n",
    "# - Items will be in alphabetical order; Counter in descending order\n",
    "# - Nested Dict will be printed with suitable indentation\n",
    "import pprint  # pretty printing\n",
    "cp = pprint.PrettyPrinter(compact=True, sort_dicts=True)"
   ]
  },
  {
   "cell_type": "markdown",
   "id": "ef43e8b2-0690-4bcd-8a67-84cd2fa86cbd",
   "metadata": {
    "jp-MarkdownHeadingCollapsed": true,
    "tags": []
   },
   "source": [
    "### Load data from last run (optional):"
   ]
  },
  {
   "cell_type": "code",
   "execution_count": null,
   "id": "a2425ab8-3d5d-460c-9a20-16b393f1b009",
   "metadata": {},
   "outputs": [],
   "source": [
    "paths = pickle.load(open('data/paths.pkl', 'rb'))\n",
    "data_idx = pickle.load(open('data/data_idx_raw.pkl', 'rb'))"
   ]
  },
  {
   "cell_type": "markdown",
   "id": "419eeeb7-fbcf-419e-b9dc-2371a2deb959",
   "metadata": {
    "jp-MarkdownHeadingCollapsed": true,
    "tags": []
   },
   "source": [
    "# 1. Get download URLs for target collection(s)\n",
    "\n",
    "- The following code gets the download URLs for the zip files of the corpora in the target collection(s).  \n",
    "- You can specify a target collection by the name of the collection (e.g. \"childes\") and the name of the folder (e.g. \"Eng-NA\").\n",
    "\n",
    "> To find the name of a specific collection or folder:\n",
    "> 1. Go to the [TalkBank Browser](https://sla.talkbank.org/TBB).\n",
    "> 2. Select the collection in the pull-down menu and navigate to the folder you are interested in.\n",
    "> 3. The name of the collection and/or folder is in the directory path under the pull-down menu.\n",
    "\n",
    "***Note:** This code can only find URLs for public collections. For password-protected collections, please follow the instructions in TalkBank's documentation.*\n",
    "\n",
    "--  \n",
    "In this tutorial, we are interested in datasets under \"childes/Eng-NA\"."
   ]
  },
  {
   "cell_type": "code",
   "execution_count": 32,
   "id": "ce72aa59-5dd6-484f-bb63-057631d36318",
   "metadata": {},
   "outputs": [
    {
     "name": "stdout",
     "output_type": "stream",
     "text": [
      "Looking for URLs in childes...\n",
      "Done! All URLs for zip files are stored in 'zip_urls'. \n",
      "There are 48 downloadable corpora. Here is an example: \n",
      "https://childes.talkbank.org/data/Eng-NA/Bates.zip\n"
     ]
    }
   ],
   "source": [
    "# Get download URLs for zip files\n",
    "\n",
    "############################## User Input ######################################\n",
    "# 1. Enter the name of the TalkBank collection below\n",
    "bank_name = \"childes\"\n",
    "# 2. Enter target folder(s) in the collection, e.g. folders=['Eng-NA','Eng-UK']\n",
    "#    To include all downloadable corpora in the data search, \n",
    "#    enter an empty string, i.e. folders = ['']\n",
    "#    Case-sensitive!\n",
    "folders = ['Eng-NA']\n",
    "################################################################################\n",
    "\n",
    "# Find all URLs in the selected collection\n",
    "root_url = 'https://' + bank_name + '.talkbank.org/data/'\n",
    "# List of urls (only root_url for now)\n",
    "urls = [root_url]\n",
    "print('Looking for URLs in {}...' .format(bank_name))\n",
    "for url in urls:\n",
    "    if not url.endswith('.zip'): # inspect current url if not a zip file\n",
    "        # get urls under current url:\n",
    "        req = requests.get(url)\n",
    "        soup = BeautifulSoup(req.text, 'html.parser')\n",
    "        for a in soup.find_all('a'):\n",
    "            path = a.get('href')\n",
    "            # add urls under current url to 'urls':\n",
    "            if not( ('?' in path) or path.startswith('/')): # exclude query code and root folder\n",
    "                urls.append(url + path)\n",
    "\n",
    "# Get URLs for zip files\n",
    "zip_urls = [url for url in urls for d in folders \n",
    "            if d in url and url.endswith('.zip')]\n",
    "print(\"Done! All URLs for zip files are stored in 'zip_urls'. \\n\"\n",
    "      \"There are {} downloadable corpora. Here is an example: \\n{}\"\n",
    "      .format(len(zip_urls), zip_urls[0]))"
   ]
  },
  {
   "cell_type": "markdown",
   "id": "35528a23-3fad-48b6-9996-548758cf7bd3",
   "metadata": {
    "jp-MarkdownHeadingCollapsed": true,
    "tags": []
   },
   "source": [
    "# 2. Screen for potential datasets in the target collection(s) \n",
    "\n",
    "## Step 2A (To skip, go to Step 2B)\n",
    "- The following code screens for potential datasets that contain the target file(s) you need.\n",
    "\n",
    "- **Strategies:** This step is optional, but it is recommended for efficiency: It narrows down the scope of data search later in this pipeline if your target collection is large. You don't need to use very stringent screening criteria here, but rather something more general but good enough to narrow down the scope of data search. The goal is to find the datasets containing at least one file which satisfies *some* of your data requirements. A more detailed data search will be done in a latter step.\n",
    "\n",
    "- This step uses the `pylangacq` package to look up the metadata in file headers. Please see the package's documentation for instructions.\n",
    "\n",
    "--  \n",
    "For this tutorial, a potential dataset should contain *at least one file* where\n",
    "- a child ('CHI') is included in the participant list and\n",
    "- info about the child's SES or the mother's SES/education is provided."
   ]
  },
  {
   "cell_type": "code",
   "execution_count": 40,
   "id": "3fd190cf-5b1f-418c-8659-e5fd9486a403",
   "metadata": {},
   "outputs": [
    {
     "name": "stderr",
     "output_type": "stream",
     "text": [
      "100%|██████████████████████████████████████████████████████████████████████████████████| 48/48 [06:38<00:00,  8.30s/it]"
     ]
    },
    {
     "name": "stdout",
     "output_type": "stream",
     "text": [
      "\n",
      "13 corpora matching the criteria:\n"
     ]
    },
    {
     "name": "stderr",
     "output_type": "stream",
     "text": [
      "\n"
     ]
    },
    {
     "data": {
      "text/html": [
       "<div>\n",
       "<style scoped>\n",
       "    .dataframe tbody tr th:only-of-type {\n",
       "        vertical-align: middle;\n",
       "    }\n",
       "\n",
       "    .dataframe tbody tr th {\n",
       "        vertical-align: top;\n",
       "    }\n",
       "\n",
       "    .dataframe thead th {\n",
       "        text-align: right;\n",
       "    }\n",
       "</style>\n",
       "<table border=\"1\" class=\"dataframe\">\n",
       "  <thead>\n",
       "    <tr style=\"text-align: right;\">\n",
       "      <th></th>\n",
       "      <th>corpus</th>\n",
       "      <th>homepage</th>\n",
       "      <th>zip_url</th>\n",
       "    </tr>\n",
       "  </thead>\n",
       "  <tbody>\n",
       "    <tr>\n",
       "      <th>0</th>\n",
       "      <td>Bates</td>\n",
       "      <td>https://childes.talkbank.org/access/Eng-NA/Bat...</td>\n",
       "      <td>https://childes.talkbank.org/data/Eng-NA/Bates...</td>\n",
       "    </tr>\n",
       "    <tr>\n",
       "      <th>1</th>\n",
       "      <td>Bernstein</td>\n",
       "      <td>https://childes.talkbank.org/access/Eng-NA/Ber...</td>\n",
       "      <td>https://childes.talkbank.org/data/Eng-NA/Berns...</td>\n",
       "    </tr>\n",
       "    <tr>\n",
       "      <th>2</th>\n",
       "      <td>Brown</td>\n",
       "      <td>https://childes.talkbank.org/access/Eng-NA/Bro...</td>\n",
       "      <td>https://childes.talkbank.org/data/Eng-NA/Brown...</td>\n",
       "    </tr>\n",
       "    <tr>\n",
       "      <th>3</th>\n",
       "      <td>Clark</td>\n",
       "      <td>https://childes.talkbank.org/access/Eng-NA/Cla...</td>\n",
       "      <td>https://childes.talkbank.org/data/Eng-NA/Clark...</td>\n",
       "    </tr>\n",
       "    <tr>\n",
       "      <th>4</th>\n",
       "      <td>Demetras2</td>\n",
       "      <td>https://childes.talkbank.org/access/Eng-NA/Dem...</td>\n",
       "      <td>https://childes.talkbank.org/data/Eng-NA/Demet...</td>\n",
       "    </tr>\n",
       "    <tr>\n",
       "      <th>5</th>\n",
       "      <td>Gleason</td>\n",
       "      <td>https://childes.talkbank.org/access/Eng-NA/Gle...</td>\n",
       "      <td>https://childes.talkbank.org/data/Eng-NA/Gleas...</td>\n",
       "    </tr>\n",
       "    <tr>\n",
       "      <th>6</th>\n",
       "      <td>HSLLD</td>\n",
       "      <td>https://childes.talkbank.org/access/Eng-NA/HSL...</td>\n",
       "      <td>https://childes.talkbank.org/data/Eng-NA/HSLLD...</td>\n",
       "    </tr>\n",
       "    <tr>\n",
       "      <th>7</th>\n",
       "      <td>Hall</td>\n",
       "      <td>https://childes.talkbank.org/access/Eng-NA/Hal...</td>\n",
       "      <td>https://childes.talkbank.org/data/Eng-NA/Hall.zip</td>\n",
       "    </tr>\n",
       "    <tr>\n",
       "      <th>8</th>\n",
       "      <td>Hicks</td>\n",
       "      <td>https://childes.talkbank.org/access/Eng-NA/Hic...</td>\n",
       "      <td>https://childes.talkbank.org/data/Eng-NA/Hicks...</td>\n",
       "    </tr>\n",
       "    <tr>\n",
       "      <th>9</th>\n",
       "      <td>Nelson</td>\n",
       "      <td>https://childes.talkbank.org/access/Eng-NA/Nel...</td>\n",
       "      <td>https://childes.talkbank.org/data/Eng-NA/Nelso...</td>\n",
       "    </tr>\n",
       "    <tr>\n",
       "      <th>10</th>\n",
       "      <td>NewmanRatner</td>\n",
       "      <td>https://childes.talkbank.org/access/Eng-NA/New...</td>\n",
       "      <td>https://childes.talkbank.org/data/Eng-NA/Newma...</td>\n",
       "    </tr>\n",
       "    <tr>\n",
       "      <th>11</th>\n",
       "      <td>Post</td>\n",
       "      <td>https://childes.talkbank.org/access/Eng-NA/Pos...</td>\n",
       "      <td>https://childes.talkbank.org/data/Eng-NA/Post.zip</td>\n",
       "    </tr>\n",
       "    <tr>\n",
       "      <th>12</th>\n",
       "      <td>VanHouten</td>\n",
       "      <td>https://childes.talkbank.org/access/Eng-NA/Van...</td>\n",
       "      <td>https://childes.talkbank.org/data/Eng-NA/VanHo...</td>\n",
       "    </tr>\n",
       "  </tbody>\n",
       "</table>\n",
       "</div>"
      ],
      "text/plain": [
       "          corpus                                           homepage  \\\n",
       "0          Bates  https://childes.talkbank.org/access/Eng-NA/Bat...   \n",
       "1      Bernstein  https://childes.talkbank.org/access/Eng-NA/Ber...   \n",
       "2          Brown  https://childes.talkbank.org/access/Eng-NA/Bro...   \n",
       "3          Clark  https://childes.talkbank.org/access/Eng-NA/Cla...   \n",
       "4      Demetras2  https://childes.talkbank.org/access/Eng-NA/Dem...   \n",
       "5        Gleason  https://childes.talkbank.org/access/Eng-NA/Gle...   \n",
       "6          HSLLD  https://childes.talkbank.org/access/Eng-NA/HSL...   \n",
       "7           Hall  https://childes.talkbank.org/access/Eng-NA/Hal...   \n",
       "8          Hicks  https://childes.talkbank.org/access/Eng-NA/Hic...   \n",
       "9         Nelson  https://childes.talkbank.org/access/Eng-NA/Nel...   \n",
       "10  NewmanRatner  https://childes.talkbank.org/access/Eng-NA/New...   \n",
       "11          Post  https://childes.talkbank.org/access/Eng-NA/Pos...   \n",
       "12     VanHouten  https://childes.talkbank.org/access/Eng-NA/Van...   \n",
       "\n",
       "                                              zip_url  \n",
       "0   https://childes.talkbank.org/data/Eng-NA/Bates...  \n",
       "1   https://childes.talkbank.org/data/Eng-NA/Berns...  \n",
       "2   https://childes.talkbank.org/data/Eng-NA/Brown...  \n",
       "3   https://childes.talkbank.org/data/Eng-NA/Clark...  \n",
       "4   https://childes.talkbank.org/data/Eng-NA/Demet...  \n",
       "5   https://childes.talkbank.org/data/Eng-NA/Gleas...  \n",
       "6   https://childes.talkbank.org/data/Eng-NA/HSLLD...  \n",
       "7   https://childes.talkbank.org/data/Eng-NA/Hall.zip  \n",
       "8   https://childes.talkbank.org/data/Eng-NA/Hicks...  \n",
       "9   https://childes.talkbank.org/data/Eng-NA/Nelso...  \n",
       "10  https://childes.talkbank.org/data/Eng-NA/Newma...  \n",
       "11  https://childes.talkbank.org/data/Eng-NA/Post.zip  \n",
       "12  https://childes.talkbank.org/data/Eng-NA/VanHo...  "
      ]
     },
     "execution_count": 40,
     "metadata": {},
     "output_type": "execute_result"
    }
   ],
   "source": [
    "# list of corpora matching the criteria\n",
    "search_result = []\n",
    "# Inspect every corpus on the target_urls list:\n",
    "for url in tqdm(zip_urls):  # tqdm for progress bar\n",
    "    corpus = pylangacq.read_chat(url) # read current corpus into a Reader\n",
    "    for h in corpus.headers():\n",
    "        ########################### User Input #################################        \n",
    "        # Insert if-conditions for search criteria below:\n",
    "        if (\n",
    "            # 'CHI' must be included\n",
    "            ('CHI' in h['Participants'])             \n",
    "            and            \n",
    "            # Must contain info about either SES or mother's education\n",
    "            (   # Child's or mother's SES \n",
    "                ((h['Participants']['CHI']['ses'] != '') or\n",
    "                (('MOT' in h['Participants']) and (h['Participants']['MOT']['ses'] != '')))\n",
    "                or                \n",
    "                # Mother's education\n",
    "                (('MOT' in h['Participants']) and (h['Participants']['MOT']['education'] != ''))\n",
    "            )            \n",
    "        ):\n",
    "        ########################################################################\n",
    "            search_result.append(url)  # add corpus to 'search_result'\n",
    "            break  # move on to the next corpus once a file matches the criteria\n",
    "\n",
    "print('\\n{} corpora matching the criteria:'.format(len(search_result)))\n",
    "# Create a dataframe to store corpus info\n",
    "corpus_names = [url.split('/')[-1].replace('.zip','') for url in search_result]\n",
    "homepages    = [url.replace('data','access').replace('zip','html') for url in search_result]\n",
    "local_paths  = ['data/'+bank_name+'/'+url.lstrip(root_url).rstrip('.zip') for url in search_result]\n",
    "paths = pd.DataFrame({'corpus':corpus_names,'homepage':homepages,\n",
    "                      'zip_url':search_result,'local_path':local_paths})\n",
    "paths\n",
    "\n",
    "# Save 'paths'\n",
    "with open('data/paths.pkl', 'wb') as f:\n",
    "    pickle.dump(paths, f, -1)\n",
    "print(\"'paths' was saved as 'data/paths.pkl'. \")"
   ]
  },
  {
   "cell_type": "markdown",
   "id": "4ab64de8-b836-47d5-999e-c74df14d375c",
   "metadata": {},
   "source": [
    "## Step 2B (Run this if Step 2A was skipped)\n",
    "\n"
   ]
  },
  {
   "cell_type": "code",
   "execution_count": null,
   "id": "2de1f38b-b760-4d53-8866-ba0e4555ca9a",
   "metadata": {},
   "outputs": [],
   "source": [
    "# Uncomment and run the following lines if Step 2A was skipped\n",
    "\n",
    "# corpus_names = [url.split('/')[-1].replace('.zip','') for url in search_result]\n",
    "# homepages    = [url.replace('data','access').replace('zip','html') for url in search_result]\n",
    "# local_paths  = ['data/'+bank_name+'/'+url.lstrip(root_url).rstrip('.zip') for url in search_result]\n",
    "# paths = pd.DataFrame({'corpus':corpus_names,'homepage':homepages,\n",
    "#                       'zip_url':search_result,'local_path':local_paths})\n",
    "# with open('data/paths.pkl', 'wb') as f:\n",
    "#     pickle.dump(paths, f, -1)\n",
    "# print(\"'paths' was saved as 'data/paths.pkl'. \")\n",
    "# path"
   ]
  },
  {
   "cell_type": "markdown",
   "id": "8ca96944-cc80-40b6-b11b-33ecda667d27",
   "metadata": {
    "jp-MarkdownHeadingCollapsed": true,
    "tags": []
   },
   "source": [
    "# 3. Download potential datasets to local drive\n",
    "\n",
    "The following code downloads and extracts the potential datasets to your local drive. A folder named \"data\" will be created in the current directory to store the extracted data."
   ]
  },
  {
   "cell_type": "code",
   "execution_count": null,
   "id": "02a05be9-b061-4500-8b89-aa8d1a6ecea5",
   "metadata": {},
   "outputs": [],
   "source": [
    "for url in paths['zip_url']:    \n",
    "    print('Downloading and extracting {}...'.format(url))\n",
    "    # create directories\n",
    "    fname = url.split(\"/\")[-1]    \n",
    "    dest_dir = 'data/' + bank_name + '/' + url.lstrip(root_url).rstrip(fname)\n",
    "    if not os.path.exists(dest_dir):\n",
    "        os.makedirs(dest_dir)\n",
    "    # Download corpus from URL\n",
    "    zip_path = dest_dir + fname\n",
    "    urllib.request.urlretrieve(url, zip_path)    \n",
    "    # Extract zip file\n",
    "    with zipfile.ZipFile(zip_path, 'r') as z:\n",
    "        z.extractall(dest_dir)\n",
    "    os.remove(zip_path)\n",
    "       \n",
    "print(\"Done! Zip files were downloaded and extracted to 'data/'. \")"
   ]
  },
  {
   "cell_type": "markdown",
   "id": "485bf697-f538-4b24-95f1-f75b63b68334",
   "metadata": {
    "jp-MarkdownHeadingCollapsed": true,
    "tags": []
   },
   "source": [
    "# 4. Search for target files in potential datasets and index them\n",
    "\n",
    "- The following code searches for files that satisfy your data requirements by checking metadata in their file headers. An index table will be generated to store the metadata of these files for easier file lookup later. Each row of the index table is a file (i.e. an entry) and each column is a file header field. You can name each column however you prefer.\n",
    "\n",
    "> File header fields are listed in the [CHAT manual](https://talkbank.org/manuals/CHAT.html). Note that not all files contain the same header fields. To check what header fields are available in a file, you may view the header of the file in the TalkBank Browser or download the file and view it on your computer.\n",
    "\n",
    "- This step uses the `pylangacq` package to look up the metadata in file headers. Please see the package's documentation for instructions.\n",
    "\n",
    "--  \n",
    "In this tutorial, we will create an index table with these columns:   \n",
    "- 'file_path', 'corpus', 'year', 'participants', 'name', 'age_d', 'age_m', 'sex', 'group', 'ses', 'mot_edu', 'situation', 'activities', 'study_type'\n",
    "\n",
    "Only files satisfying the following criteria will be indexed:\n",
    "- contains 'CHI' (child) in the participant field\n",
    "- the child participant is not older than 72 months"
   ]
  },
  {
   "cell_type": "code",
   "execution_count": 44,
   "id": "95609680-aad6-40a0-ad82-1c3809685e10",
   "metadata": {},
   "outputs": [
    {
     "name": "stderr",
     "output_type": "stream",
     "text": [
      "100%|██████████████████████████████████████████████████████████████████████████████████| 13/13 [03:32<00:00, 16.36s/it]"
     ]
    },
    {
     "name": "stdout",
     "output_type": "stream",
     "text": [
      "'data_idx' was saved as 'data/data_idx_raw.pkl'. \n"
     ]
    },
    {
     "name": "stderr",
     "output_type": "stream",
     "text": [
      "\n"
     ]
    }
   ],
   "source": [
    "############################## User Input ######################################\n",
    "# Create an index table by building an empty dataframe with desired column names\n",
    "data_idx = pd.DataFrame(\n",
    "           columns=['file_path',\n",
    "                    'corpus',\n",
    "                    'year',        # recording year\n",
    "                    'participants',# participants of recording\n",
    "                    'name',        # Child's name\n",
    "                    'age_d',       # Child's age in days\n",
    "                    'age_m',       # Child's age in months\n",
    "                    'sex',         # Child's sex\n",
    "                    'group',       # Child's group (e.g. typically developed)\n",
    "                    'ses',         # Child's SES (same as mother's)\n",
    "                    'mot_edu',     # Mother's education\n",
    "                    'situation',   # Recording situation (e.g. play session)\n",
    "                    'activities',  # Activities during recording (e.g. Toy play)\n",
    "                    'study_type'   # type of study (e.g. longitudinal study)\n",
    "                   ])\n",
    "################################################################################\n",
    "\n",
    "# Search for target files and store their metadata to 'data_idx'\n",
    "for corpus_dir in tqdm(paths['local_path']):       # tqdm for progress bar  \n",
    "    corpus = pylangacq.Reader.from_dir(corpus_dir) # Read corpus into a Reader\n",
    "    for f in corpus:                               # Loop through each file\n",
    "        h = f.headers()[0]                         # Header of each file\n",
    "        ############################ User Input ################################\n",
    "        # Insert below the conditions to skip files you don't need:\n",
    "        #   e.g. skip files without 'CHI' meta info and children > 72 months  \n",
    "        if 'CHI' not in h['Participants'] or get_age_m(f.ages()[0])>72: continue\n",
    "        # Create a dict with field names SAME as column names in data_idx\n",
    "        # Number of fields must be equal to number of columns in data_idx!\n",
    "        # Insert below the code to retrieve file/ header info in each field\n",
    "        # Info can be retrieve from the header (h) or the file (f)\n",
    "        info_dict = {\n",
    "                    'corpus':       h['Participants']['CHI']['corpus'],\n",
    "                    'sex':          h['Participants']['CHI']['sex'],\n",
    "                    'name':         h['Participants']['CHI']['name'],\n",
    "                    'group':        h['Participants']['CHI']['group'],                    \n",
    "                    'ses':          h['Participants']['CHI']['ses'],\n",
    "                    'participants': f.participants(),\n",
    "                    # Age info in header is in (y,m,d) format. Use get_age_d\n",
    "                    # or get_age_m to convert ymd to age in days or months\n",
    "                    'age_d':        get_age_d(f.ages()[0]),\n",
    "                    'age_m':        get_age_m(f.ages()[0]),\n",
    "                    # replace '/' in file paths with '\\' for Windows\n",
    "                    'file_path':    f.file_paths()[0].replace('\\\\','/'),\n",
    "                    # Handling missing fields and missing values:\n",
    "                    #   Some files may have missing fields in the header,\n",
    "                    #   use if-condition to spot missing fields and fill in\n",
    "                    #   missing values with e.g. nan or empty string ''\n",
    "                    'year':  list(h['Date'])[0].year if 'Date' in h else np.nan,\n",
    "                    'situation':    h['Situation'] if 'Situation' in h else '',\n",
    "                    'activities':   h['Activities'] if 'Activities' in h else '',\n",
    "                    'study_type':   h['Types'] if 'Types' in h else '',\n",
    "                    'mot_edu':      h['Participants']['MOT']['education']\n",
    "                                     if 'MOT' in h['Participants'] else ''\n",
    "                    }\n",
    "        # some missing values can be replaced with values from another field\n",
    "        #   e.g. use mother's SES as child's SES if available\n",
    "        if h['Participants']['CHI']['ses']=='' and 'MOT' in h['Participants']:\n",
    "            info_dict['ses'] = h['Participants']['MOT']['ses']\n",
    "        ########################################################################\n",
    "        # Fill the next row of data_idx with info_dict\n",
    "        data_idx.loc[len(data_idx)] = info_dict\n",
    "                    \n",
    "# Replace empty string with 'unspecified'\n",
    "data_idx.replace(to_replace = '', value = 'unspecified', inplace=True)\n",
    "data_idx.head()\n",
    "\n",
    "# Save unprocessed 'data_idx' as 'data/data_idx_raw.pkl'\n",
    "with open('data/data_idx_raw.pkl', 'wb') as f:\n",
    "    pickle.dump(data_idx, f, -1)\n",
    "    \n",
    "print(\"'data_idx' was saved as 'data/data_idx_raw.pkl'. \")"
   ]
  },
  {
   "cell_type": "markdown",
   "id": "d66170c4-f7d3-4cf3-880b-cf8da1256f13",
   "metadata": {
    "jp-MarkdownHeadingCollapsed": true,
    "tags": []
   },
   "source": [
    "---\n",
    "\n",
    "# 5. Standardize header labels\n",
    "\n",
    "Different studies may use different texts (i.e. \"header labels\" in this pipeline) to specify the same recording conditions in the file header (e.g. either `TD` or `typical` might be used to label files from typically developed children). Besides, since metadata might be entered manually, human errors such as typos or missing data could be found. To index files of the same conditions from different studies correctly, we need to standardize the header labels from all the studies. \n",
    "\n",
    "Here is the general workflow:\n",
    "1. Inspect header labels\n",
    "2. Check study design or header label definition\n",
    "3. Integrate header labels in the index table\n",
    "4. Replace missing labels\n",
    "\n",
    "From now on, the pipeline will only work on the index table instead of the raw data."
   ]
  },
  {
   "cell_type": "markdown",
   "id": "968d6221-a49a-4083-9200-da60d6f2bde5",
   "metadata": {},
   "source": [
    "## 5.1 Inspect header labels\n",
    "To get all the labels used for a specific header field (i.e. column) in the index table `data_idx`, you can call this function (defined at the beginning of this noteboook): `get_labels( <column name> )`. For example:"
   ]
  },
  {
   "cell_type": "code",
   "execution_count": 45,
   "id": "363597c3-3165-4f0f-9577-03aef5f0bc11",
   "metadata": {},
   "outputs": [
    {
     "name": "stdout",
     "output_type": "stream",
     "text": [
      "{'Bates': {'TD'},\n",
      " 'Bernstein': {'unspecified', 'TD'},\n",
      " 'Brown': {'unspecified', 'TD'},\n",
      " 'Clark': {'TD'},\n",
      " 'Demetras2': {'unspecified', 'TD'},\n",
      " 'Gleason': {'typical', 'unspecified', 'normal', 'TD'},\n",
      " 'HSLLD': {'unspecified'},\n",
      " 'Hall': {'unspecified', 'White,UC', 'TD'},\n",
      " 'Hicks': {'unspecified'},\n",
      " 'Nelson': {'unspecified'},\n",
      " 'NewmanRatner': {'TD'},\n",
      " 'Post': {'TD'},\n",
      " 'VanHouten': {'MOT_Adolescent', 'MOT_Adolescent_', 'MOT_Older', 'MOT_Older_',\n",
      "               'MOT_adolescent', 'MOT_older', 'TD', 'unspecified'}}\n"
     ]
    }
   ],
   "source": [
    "############################## User Input ######################################\n",
    "# Enter the column name of data_idx you want to inspect\n",
    "cp.pprint( get_labels('group') )           # pprint for compact printing"
   ]
  },
  {
   "cell_type": "markdown",
   "id": "05163b8f-4838-475e-840c-ed18438a0484",
   "metadata": {},
   "source": [
    "## 5.2 Check study design / header label definition\n",
    "\n",
    "Please visit the homepages of the datasets for more info:"
   ]
  },
  {
   "cell_type": "code",
   "execution_count": 46,
   "id": "0b81b4de-2464-438f-aaf8-682d304fe681",
   "metadata": {},
   "outputs": [
    {
     "data": {
      "text/plain": [
       "array(['https://childes.talkbank.org/access/Eng-NA/Bates.html',\n",
       "       'https://childes.talkbank.org/access/Eng-NA/Bernstein.html',\n",
       "       'https://childes.talkbank.org/access/Eng-NA/Brown.html',\n",
       "       'https://childes.talkbank.org/access/Eng-NA/Clark.html',\n",
       "       'https://childes.talkbank.org/access/Eng-NA/Demetras2.html',\n",
       "       'https://childes.talkbank.org/access/Eng-NA/Gleason.html',\n",
       "       'https://childes.talkbank.org/access/Eng-NA/HSLLD.html',\n",
       "       'https://childes.talkbank.org/access/Eng-NA/Hall.html',\n",
       "       'https://childes.talkbank.org/access/Eng-NA/Hicks.html',\n",
       "       'https://childes.talkbank.org/access/Eng-NA/Nelson.html',\n",
       "       'https://childes.talkbank.org/access/Eng-NA/NewmanRatner.html',\n",
       "       'https://childes.talkbank.org/access/Eng-NA/Post.html',\n",
       "       'https://childes.talkbank.org/access/Eng-NA/VanHouten.html'],\n",
       "      dtype=object)"
      ]
     },
     "execution_count": 46,
     "metadata": {},
     "output_type": "execute_result"
    }
   ],
   "source": [
    "paths['homepage'].values"
   ]
  },
  {
   "cell_type": "markdown",
   "id": "61ba4632-db88-461b-a6cc-e10c266bcbf6",
   "metadata": {},
   "source": [
    "## 5.3 Integrate header labels in the index\n",
    "\n",
    "The goal of this step is to standardize header labels so that all files are indexed with a common set of labels for every header field.\n",
    "\n",
    "## 5.4 Replace missing labels\n",
    "\n",
    "Missing labels will be filled according to the documentation of the corpus from where a file is downloaded."
   ]
  },
  {
   "cell_type": "markdown",
   "id": "bb2fb987-71a9-4440-8cdc-2f1f452c902e",
   "metadata": {
    "tags": []
   },
   "source": [
    "---\n",
    "\n",
    "## Example\n",
    "\n",
    "### `group` labels\n",
    "\n",
    "As shown above, the `group` information of is not properly specified in every corpus: \n",
    "- According the documentations of the corpora, all children in the dataset should be typically developed (`TD` in `group`). Therefore, we will change the `unspecified` label to `TD`.\n",
    "- in the Gleason corpus, labels `normal` and `typical` are used in addition to `TD`. We will change all of this labels to `TD`.\n",
    "- In the Hall corpus, the labels for `group` and `ses` were switched in some entries (e.g. `White,UC` should be a label for `ses`). We will switch them first and change all `group` labels to `TD`.\n",
    "- In the VanHouten corpus, all children are `TD`, but it also contains entries with adolescent mothers. Assuming that we only want to study children with adult mothers, we will remove the entries with adolescent mothers.\n",
    "\n",
    "Let's take a quick look at the annotation mistakes in the Hall corpus first:"
   ]
  },
  {
   "cell_type": "code",
   "execution_count": 47,
   "id": "3ceaf0c5-6dd8-40d1-8a20-47196d05259d",
   "metadata": {},
   "outputs": [
    {
     "data": {
      "text/html": [
       "<div>\n",
       "<style scoped>\n",
       "    .dataframe tbody tr th:only-of-type {\n",
       "        vertical-align: middle;\n",
       "    }\n",
       "\n",
       "    .dataframe tbody tr th {\n",
       "        vertical-align: top;\n",
       "    }\n",
       "\n",
       "    .dataframe thead th {\n",
       "        text-align: right;\n",
       "    }\n",
       "</style>\n",
       "<table border=\"1\" class=\"dataframe\">\n",
       "  <thead>\n",
       "    <tr style=\"text-align: right;\">\n",
       "      <th></th>\n",
       "      <th>group</th>\n",
       "      <th>ses</th>\n",
       "      <th>study_type</th>\n",
       "    </tr>\n",
       "  </thead>\n",
       "  <tbody>\n",
       "    <tr>\n",
       "      <th>1471</th>\n",
       "      <td>unspecified</td>\n",
       "      <td>Black,WC</td>\n",
       "      <td>cross, everyday, AAE</td>\n",
       "    </tr>\n",
       "    <tr>\n",
       "      <th>1472</th>\n",
       "      <td>unspecified</td>\n",
       "      <td>Black,WC</td>\n",
       "      <td>cross, everyday, AAE</td>\n",
       "    </tr>\n",
       "    <tr>\n",
       "      <th>1473</th>\n",
       "      <td>unspecified</td>\n",
       "      <td>Black,WC</td>\n",
       "      <td>cross, everyday, AAE</td>\n",
       "    </tr>\n",
       "    <tr>\n",
       "      <th>1474</th>\n",
       "      <td>unspecified</td>\n",
       "      <td>Black,WC</td>\n",
       "      <td>cross, everyday, AAE</td>\n",
       "    </tr>\n",
       "    <tr>\n",
       "      <th>1475</th>\n",
       "      <td>unspecified</td>\n",
       "      <td>Black,WC</td>\n",
       "      <td>cross, everyday, AAE</td>\n",
       "    </tr>\n",
       "    <tr>\n",
       "      <th>1476</th>\n",
       "      <td>unspecified</td>\n",
       "      <td>Black,WC</td>\n",
       "      <td>cross, everyday, AAE</td>\n",
       "    </tr>\n",
       "    <tr>\n",
       "      <th>1477</th>\n",
       "      <td>unspecified</td>\n",
       "      <td>Black,WC</td>\n",
       "      <td>cross, everyday, AAE</td>\n",
       "    </tr>\n",
       "    <tr>\n",
       "      <th>1478</th>\n",
       "      <td>unspecified</td>\n",
       "      <td>Black,WC</td>\n",
       "      <td>cross, everyday, AAE</td>\n",
       "    </tr>\n",
       "    <tr>\n",
       "      <th>1479</th>\n",
       "      <td>unspecified</td>\n",
       "      <td>Black,WC</td>\n",
       "      <td>cross, everyday, AAE</td>\n",
       "    </tr>\n",
       "    <tr>\n",
       "      <th>1480</th>\n",
       "      <td>unspecified</td>\n",
       "      <td>Black,WC</td>\n",
       "      <td>cross, everyday, AAE</td>\n",
       "    </tr>\n",
       "    <tr>\n",
       "      <th>1482</th>\n",
       "      <td>White,UC</td>\n",
       "      <td>unspecified</td>\n",
       "      <td>cross, everyday, TD</td>\n",
       "    </tr>\n",
       "    <tr>\n",
       "      <th>1485</th>\n",
       "      <td>White,UC</td>\n",
       "      <td>unspecified</td>\n",
       "      <td>cross, everyday, TD</td>\n",
       "    </tr>\n",
       "    <tr>\n",
       "      <th>1492</th>\n",
       "      <td>unspecified</td>\n",
       "      <td>unspecified</td>\n",
       "      <td>cross, everyday, TD</td>\n",
       "    </tr>\n",
       "  </tbody>\n",
       "</table>\n",
       "</div>"
      ],
      "text/plain": [
       "            group          ses            study_type\n",
       "1471  unspecified     Black,WC  cross, everyday, AAE\n",
       "1472  unspecified     Black,WC  cross, everyday, AAE\n",
       "1473  unspecified     Black,WC  cross, everyday, AAE\n",
       "1474  unspecified     Black,WC  cross, everyday, AAE\n",
       "1475  unspecified     Black,WC  cross, everyday, AAE\n",
       "1476  unspecified     Black,WC  cross, everyday, AAE\n",
       "1477  unspecified     Black,WC  cross, everyday, AAE\n",
       "1478  unspecified     Black,WC  cross, everyday, AAE\n",
       "1479  unspecified     Black,WC  cross, everyday, AAE\n",
       "1480  unspecified     Black,WC  cross, everyday, AAE\n",
       "1482     White,UC  unspecified   cross, everyday, TD\n",
       "1485     White,UC  unspecified   cross, everyday, TD\n",
       "1492  unspecified  unspecified   cross, everyday, TD"
      ]
     },
     "execution_count": 47,
     "metadata": {},
     "output_type": "execute_result"
    }
   ],
   "source": [
    "labels = ['TD', 'typical', 'normal']\n",
    "data_idx[['group','ses','study_type']][(data_idx.corpus=='Hall') & \n",
    "                                       ~(data_idx.group.isin(labels))]"
   ]
  },
  {
   "cell_type": "markdown",
   "id": "70092425-740f-45f6-a794-e6f7c28d842f",
   "metadata": {},
   "source": [
    "In row 1482 and 1485, the label `White,UC` (i.e. upper class white) was entered in the field `group`, though it is clearly a label for `ses`. We will copy the labels to `ses` of the corresponding rows:"
   ]
  },
  {
   "cell_type": "code",
   "execution_count": 48,
   "id": "2c293ac5-f679-4ff7-ab8d-ed321756b040",
   "metadata": {},
   "outputs": [
    {
     "data": {
      "text/html": [
       "<div>\n",
       "<style scoped>\n",
       "    .dataframe tbody tr th:only-of-type {\n",
       "        vertical-align: middle;\n",
       "    }\n",
       "\n",
       "    .dataframe tbody tr th {\n",
       "        vertical-align: top;\n",
       "    }\n",
       "\n",
       "    .dataframe thead th {\n",
       "        text-align: right;\n",
       "    }\n",
       "</style>\n",
       "<table border=\"1\" class=\"dataframe\">\n",
       "  <thead>\n",
       "    <tr style=\"text-align: right;\">\n",
       "      <th></th>\n",
       "      <th>group</th>\n",
       "      <th>ses</th>\n",
       "      <th>study_type</th>\n",
       "    </tr>\n",
       "  </thead>\n",
       "  <tbody>\n",
       "    <tr>\n",
       "      <th>1482</th>\n",
       "      <td>White,UC</td>\n",
       "      <td>White,UC</td>\n",
       "      <td>cross, everyday, TD</td>\n",
       "    </tr>\n",
       "    <tr>\n",
       "      <th>1485</th>\n",
       "      <td>White,UC</td>\n",
       "      <td>White,UC</td>\n",
       "      <td>cross, everyday, TD</td>\n",
       "    </tr>\n",
       "  </tbody>\n",
       "</table>\n",
       "</div>"
      ],
      "text/plain": [
       "         group       ses           study_type\n",
       "1482  White,UC  White,UC  cross, everyday, TD\n",
       "1485  White,UC  White,UC  cross, everyday, TD"
      ]
     },
     "execution_count": 48,
     "metadata": {},
     "output_type": "execute_result"
    }
   ],
   "source": [
    "data_idx.loc[data_idx.group=='White,UC','ses'] = 'White,UC'\n",
    "\n",
    "# Print to check if ses labels were updated\n",
    "data_idx.loc[[1482,1485],['group','ses','study_type']]"
   ]
  },
  {
   "cell_type": "markdown",
   "id": "61d26900-d63f-4ac7-a517-41ab39c3158d",
   "metadata": {},
   "source": [
    "Note that the `group` labels are still `White,UC`, but I will change them to `TD` together with other entries later.\n",
    "Next, we will drop the entries with adolescent mothers in the VanHouten corpus:"
   ]
  },
  {
   "cell_type": "code",
   "execution_count": 49,
   "id": "ef976c80-ebf4-46e4-a984-ce4760299e51",
   "metadata": {},
   "outputs": [
    {
     "name": "stdout",
     "output_type": "stream",
     "text": [
      "{'Bates': {'TD'},\n",
      " 'Bernstein': {'unspecified', 'TD'},\n",
      " 'Brown': {'unspecified', 'TD'},\n",
      " 'Clark': {'TD'},\n",
      " 'Demetras2': {'unspecified', 'TD'},\n",
      " 'Gleason': {'typical', 'unspecified', 'normal', 'TD'},\n",
      " 'HSLLD': {'unspecified'},\n",
      " 'Hall': {'unspecified', 'White,UC', 'TD'},\n",
      " 'Hicks': {'unspecified'},\n",
      " 'Nelson': {'unspecified'},\n",
      " 'NewmanRatner': {'TD'},\n",
      " 'Post': {'TD'},\n",
      " 'VanHouten': {'MOT_Older', 'MOT_Older_', 'unspecified', 'TD', 'MOT_older'}}\n",
      "43 entries dropped!\n"
     ]
    }
   ],
   "source": [
    "drop_tags = ['MOT_Adolescent', 'MOT_Adolescent_', 'MOT_adolescent']\n",
    "n_drop_group = len(data_idx[data_idx.group.isin(drop_tags)])\n",
    "data_idx.drop(data_idx[data_idx.group.isin(drop_tags)].index, inplace=True)\n",
    "\n",
    "# Check current labels\n",
    "cp.pprint(get_labels('group'))\n",
    "\n",
    "print(n_drop_group, 'entries dropped!')"
   ]
  },
  {
   "cell_type": "markdown",
   "id": "e162b8f0-2069-4989-a3ee-3e1ae7eb3eee",
   "metadata": {},
   "source": [
    "--\n",
    "\n",
    "Finally, we will change all labels to `TD` at once:"
   ]
  },
  {
   "cell_type": "code",
   "execution_count": 50,
   "id": "43d335bd-580f-4e57-9a6a-959f32d6af17",
   "metadata": {},
   "outputs": [
    {
     "data": {
      "text/plain": [
       "{'Nelson': {'TD'},\n",
       " 'Gleason': {'TD'},\n",
       " 'Brown': {'TD'},\n",
       " 'Post': {'TD'},\n",
       " 'HSLLD': {'TD'},\n",
       " 'NewmanRatner': {'TD'},\n",
       " 'Hall': {'TD'},\n",
       " 'Bates': {'TD'},\n",
       " 'Bernstein': {'TD'},\n",
       " 'Hicks': {'TD'},\n",
       " 'VanHouten': {'TD'},\n",
       " 'Demetras2': {'TD'},\n",
       " 'Clark': {'TD'}}"
      ]
     },
     "execution_count": 50,
     "metadata": {},
     "output_type": "execute_result"
    }
   ],
   "source": [
    "# Change all 'group' label to TD\n",
    "data_idx['group'] = 'TD'\n",
    "\n",
    "# Check updated labels\n",
    "get_labels('group')"
   ]
  },
  {
   "cell_type": "markdown",
   "id": "08a5beb3-d416-4410-a8f4-c0ec9de173f2",
   "metadata": {
    "tags": []
   },
   "source": [
    "### `mot_edu` labels\n",
    "\n",
    "First, let's find out all the labels used for `mot_edu` in every corpus:"
   ]
  },
  {
   "cell_type": "code",
   "execution_count": 51,
   "id": "6d5c3a10-57aa-4051-89c9-ec6bec05103b",
   "metadata": {},
   "outputs": [
    {
     "name": "stdout",
     "output_type": "stream",
     "text": [
      "{'Bates': {'unspecified'},\n",
      " 'Bernstein': {'unspecified'},\n",
      " 'Brown': {'unspecified'},\n",
      " 'Clark': {'unspecified'},\n",
      " 'Demetras2': {'unspecified'},\n",
      " 'Gleason': {'unspecified'},\n",
      " 'HSLLD': {'**', '10', '10 , GED', '102', '11', '11 , GED', '11+', '12', '12+',\n",
      "           '13', '13+', '14', '15', '16', '6', '7', '8', '9', 'XX', 'almost 12',\n",
      "           'unspecified'},\n",
      " 'Hall': {'unspecified'},\n",
      " 'Hicks': {'unspecified'},\n",
      " 'Nelson': {'unspecified'},\n",
      " 'NewmanRatner': {\"Associate's_Degree\", 'College', 'College_Doctoral',\n",
      "                  'College_J.D.', \"College_Master's\", 'High_School_Diploma',\n",
      "                  'Some_College', 'unspecified'},\n",
      " 'Post': {'unspecified'},\n",
      " 'VanHouten': {'MOT_3', 'unspecified', 'MOT_1', 'MOT_2'}}\n"
     ]
    }
   ],
   "source": [
    "cp.pprint( get_labels('mot_edu') )"
   ]
  },
  {
   "cell_type": "markdown",
   "id": "d902de6c-081d-4801-a064-caccb9370192",
   "metadata": {},
   "source": [
    "--\n",
    "  \n",
    "Different classifications of education level are used in three corpora (HSLLD, NewmanRatner and VanHouten). HSLLD has a very detailed classification while VanHouten has only three classes:\n",
    "- The labels used in HSLLD correspond to the school grade year the mother achieved. 'GED' is equivalent to completing grade 12 in the U.S. educational system. The labels '13' and beyond correspond to some post-secondary education (e.g. vocational training).\n",
    "- According to VanHouten's documentation, mother’s education is classified as MOT_1 (completed junior high), MOT_2 (completed high school) or MOT_3 (some post-secondary education).\n",
    "\n",
    "To standardize all the labels, we can use a less detailed classification without losing information we need for our study.\n",
    "We will merge the current labels into the following labels according to their common definitions: \n",
    "\n",
    "- `JH-`, `HS-`, `HS`, `HS+` for:\n",
    "    - before completing junior high (before grade 9),\n",
    "    - before completing high school (before GED or grade 12),\n",
    "    - completed high school (GED or grade 12), and\n",
    "    - some post-secondary education (after high school).\n",
    "\n",
    "- `AD`, `UG-`, `UG` for:\n",
    "    - associate's degree,\n",
    "    - some undergraduate education, and\n",
    "    - bachelor's degree.\n",
    "\n",
    "- `MS`, `JD`, `DR` for:\n",
    "    - master's degree,\n",
    "    - juris doctor degree, and\n",
    "    - doctoral degree.\n",
    "    \n",
    "We can map the current `mot_edu` labels to the above new labels with a `dictionary` and update `data_idx` with the new labels:"
   ]
  },
  {
   "cell_type": "code",
   "execution_count": 52,
   "id": "9ec592cd-74ce-4c6a-bc1c-e5976329a669",
   "metadata": {},
   "outputs": [
    {
     "name": "stdout",
     "output_type": "stream",
     "text": [
      "{'Bates': {'unspecified'},\n",
      " 'Bernstein': {'unspecified'},\n",
      " 'Brown': {'unspecified'},\n",
      " 'Clark': {'unspecified'},\n",
      " 'Demetras2': {'unspecified'},\n",
      " 'Gleason': {'unspecified'},\n",
      " 'HSLLD': {'JH-', 'unspecified', 'HS+', 'HS', 'HS-'},\n",
      " 'Hall': {'unspecified'},\n",
      " 'Hicks': {'unspecified'},\n",
      " 'Nelson': {'unspecified'},\n",
      " 'NewmanRatner': {'UG-', 'unspecified', 'MS', 'JD', 'DR', 'HS', 'AD', 'UG'},\n",
      " 'Post': {'unspecified'},\n",
      " 'VanHouten': {'HS+', 'unspecified', 'HS-', 'HS'}}\n"
     ]
    }
   ],
   "source": [
    "# Function to update 'mot_edu'\n",
    "def update_mot_edu(data):\n",
    "    label = data\n",
    "    #' mot_edu' label mapping\n",
    "    EDU_DICT = {\n",
    "              'JH-':['6','7','8'],\n",
    "              'HS-':['9','10','11','11+','almost 12','MOT_1'],\n",
    "              'HS':['10 , GED','11 , GED','12','12+',\n",
    "                    'High_School_Diploma','MOT_2'],\n",
    "              'HS+':['13','13+','14','15','16','MOT_3'],\n",
    "              'AD':[\"Associate's_Degree\"],\n",
    "              'UG-':['Some_College'],\n",
    "              'UG':['College'], \n",
    "              'MS':[\"College_Master's\"],\n",
    "              'JD':['College_J.D.'],    \n",
    "              'DR':['College_Doctoral'],\n",
    "              'unspecified':['**','102','XX','unspecified']\n",
    "               }\n",
    "    \n",
    "    for key in EDU_DICT:\n",
    "        if data in EDU_DICT[key]:\n",
    "            label = key\n",
    "    return label\n",
    "\n",
    "# Update 'mot_edu'\n",
    "data_idx.mot_edu = data_idx.mot_edu.map(update_mot_edu)\n",
    "\n",
    "# Check if update was successful\n",
    "cp.pprint(get_labels('mot_edu'))"
   ]
  },
  {
   "cell_type": "markdown",
   "id": "4eb7e346-9cde-45bb-a226-0d6a6cece6c3",
   "metadata": {},
   "source": [
    "--\n",
    "\n",
    "### `ses` labels\n",
    "\n",
    "Below are the labels for `ses`:"
   ]
  },
  {
   "cell_type": "code",
   "execution_count": 53,
   "id": "a3ef912a-c915-4d63-b21c-2536922eb9c1",
   "metadata": {},
   "outputs": [
    {
     "data": {
      "text/plain": [
       "{'Nelson': {'MC', 'unspecified'},\n",
       " 'Gleason': {'MC', 'unspecified'},\n",
       " 'Brown': {'MC', 'unspecified'},\n",
       " 'Post': {'WC'},\n",
       " 'HSLLD': {'unspecified'},\n",
       " 'NewmanRatner': {'unspecified'},\n",
       " 'Hall': {'Black,UC', 'Black,WC', 'White,UC', 'White,WC', 'unspecified'},\n",
       " 'Bates': {'MC'},\n",
       " 'Bernstein': {'MC', 'unspecified'},\n",
       " 'Hicks': {'LI', 'unspecified'},\n",
       " 'VanHouten': {'unspecified'},\n",
       " 'Demetras2': {'WC', 'unspecified'},\n",
       " 'Clark': {'UC'}}"
      ]
     },
     "execution_count": 53,
     "metadata": {},
     "output_type": "execute_result"
    }
   ],
   "source": [
    "get_labels('ses')"
   ]
  },
  {
   "cell_type": "markdown",
   "id": "9ca52457-2172-41ea-b707-a4aedfab8a89",
   "metadata": {},
   "source": [
    "--\n",
    "\n",
    "In these corpora, `WC`, `MC`, `UC` and `LI` mean 'working class', 'middle class', 'upper class' and 'low income' respectively. Different labels are used in different corpora:\n",
    "- In the Hall corpus, each class of `WC` and `UC` is subdivided into two racial groups, `Black` and `White`. If the primary goal is to investigate the effects of SES and mother's education on vocabulary development, we can merge the labels for different racial groups but of the same SES class together if the sample distribution among different racial groups is balanced.\n",
    "- In the Hicks corpus, `LI` ('low income') is used instead of common SES class such as `WC`. Since the majority of low-come families presumably belong to the working class, we can change the label `LI` to `WC`. - Besides, the children in the subdirectories '1st', '2nd', and '5th' were considered coming from `MC` families. The children in the subdirectory 'del' were from lower class (presumably `WC`) families. We can assign the missing labels accordingly.\n",
    "- It is stated on the homepage of the Bernstein corpus that \"the mothers were all college-educated women, who were native-born Americans with white-collar husband\". Since all families in the study have similar background and some of the files were labeled `MC`, it is very likely that other files should also be labeled `MC`.\n",
    "- The Brown corpus contains data from three children: Adam (`MC`), Sarah (`WC`) and Eve (`unspecified`). We can assign the missing labels accordingly.\n",
    "- All children in the Demetras2 corpus were from `WC` families.\n",
    "- All children in the Gleason corpus were from `MC` families.\n",
    "- All children in the HSLLD corpus were from low-income families. We will use the label `WC`.\n",
    "- There is only one child in the Nelson corpus and she came from a `MC` family.\n",
    "\n",
    "There are two corpora where no SES information could be found:\n",
    "- NewmanRatner corpus\n",
    "- VanHouten corpus: Only Hollingshead index (a measurement of SES) is provided.\n",
    "\n",
    "Let's begin cleaning up the `ses` labels:"
   ]
  },
  {
   "cell_type": "code",
   "execution_count": 54,
   "id": "85bf4686-d671-464f-8755-00f160628ae8",
   "metadata": {},
   "outputs": [
    {
     "name": "stdout",
     "output_type": "stream",
     "text": [
      "{'Bates': {'MC'},\n",
      " 'Bernstein': {'MC'},\n",
      " 'Brown': {'WC', 'MC', 'unspecified'},\n",
      " 'Clark': {'UC'},\n",
      " 'Demetras2': {'WC'},\n",
      " 'Gleason': {'MC'},\n",
      " 'HSLLD': {'WC'},\n",
      " 'Hall': {'WC', 'unspecified', 'UC'},\n",
      " 'Hicks': {'WC', 'MC', 'unspecified'},\n",
      " 'Nelson': {'MC'},\n",
      " 'NewmanRatner': {'unspecified'},\n",
      " 'Post': {'WC'},\n",
      " 'VanHouten': {'unspecified'}}\n"
     ]
    }
   ],
   "source": [
    "# Function to merge 'ses' labels\n",
    "def merge_ses(data):\n",
    "    label = data\n",
    "    # 'ses' label mapping\n",
    "    SES_DICT = {'WC':['WC', 'Black,WC', 'White,WC', 'LI'],\n",
    "                'UC':['UC', 'Black,UC', 'White,UC']}\n",
    "    for key in SES_DICT:\n",
    "        if data in SES_DICT[key]:\n",
    "            label = key\n",
    "    return label\n",
    "\n",
    "# merge 'ses' labels in Hall and Hicks corpus: \n",
    "data_idx.ses = data_idx.ses.map(merge_ses)\n",
    "\n",
    "# Update labels in Hicks corpus\n",
    "for folder in ['1st','2nd','5th']:\n",
    "    data_idx.loc[((data_idx.corpus=='Hicks') & \n",
    "                  (data_idx.file_path.map(lambda x: folder in x))),'ses'] = 'MC'\n",
    "data_idx.loc[((data_idx.corpus=='Hicks') & \n",
    "              (data_idx.file_path.map(lambda x: 'del' in x))),'ses'] = 'WC'\n",
    "\n",
    "# Update labels in Brown corpus\n",
    "data_idx.loc[((data_idx.corpus=='Brown')&(data_idx.name=='Adam')),'ses']  = 'MC'\n",
    "data_idx.loc[((data_idx.corpus=='Brown')&(data_idx.name=='Sarah')),'ses'] = 'WC'\n",
    "\n",
    "# Update labels in other corpora\n",
    "data_idx.loc[data_idx.corpus=='Bernstein','ses'] = 'MC'\n",
    "data_idx.loc[data_idx.corpus=='Demetras2','ses'] = 'WC'\n",
    "data_idx.loc[data_idx.corpus=='Gleason','ses']   = 'MC'\n",
    "data_idx.loc[data_idx.corpus=='HSLLD','ses']     = 'WC'\n",
    "data_idx.loc[data_idx.corpus=='Nelson','ses']    = 'MC'\n",
    "\n",
    "# # Check updated labels\n",
    "cp.pprint(get_labels('ses'))"
   ]
  },
  {
   "cell_type": "markdown",
   "id": "b8cc6fdd-ceb8-4e3a-b7c9-568d910c397e",
   "metadata": {},
   "source": [
    "--\n",
    "\n",
    "### `situation` labels\n",
    "\n",
    "The labels for different situations (e.g. play session, book reading, etc.) where the recordings were made could get very detailed in some files. For example:"
   ]
  },
  {
   "cell_type": "code",
   "execution_count": 55,
   "id": "65466445-4084-4d45-9cf9-3f72f0ddb7f9",
   "metadata": {},
   "outputs": [
    {
     "name": "stdout",
     "output_type": "stream",
     "text": [
      "['unspecified' 'unspecified'\n",
      " 'Second home visit; book reading occurred in the living room with Mot sitting on chair , CHI kneeling next to her'\n",
      " 'Home Visit 3' 'playing with toys' 'unspecified'\n",
      " 'Sarah exits to shut off the tv as the tape begins'\n",
      " 'Home Visit 1; took place in kitchen' 'Night' 'unspecified']\n"
     ]
    }
   ],
   "source": [
    "print(data_idx.situation.sample(10, random_state=1).values)"
   ]
  },
  {
   "cell_type": "markdown",
   "id": "93ab60cb-866e-494e-b02e-ccaf0a22052a",
   "metadata": {},
   "source": [
    "To clean up the data and remove the files that we don't need, it is not necessary to read each of the `situation` labels one by one. We can just look for the keywords we need in these labels.\n",
    "\n",
    "For example, we can remove the files that were recorded in less naturalistic situation (e.g. book reading and elicited data where the discourse was more or less 'planned') to get a fair comparison between different corpora. To do this, we will remove the entries which contain the keywords \"reading\" and \"elicit\" in their `situation` field. Note that sometimes such information may be stored in `activities` or `study_type`. Therefore, we will look for the keywords in *all* of these three fields.\n",
    "\n",
    "Let's get the most common words used in the labels of these fields (less common words are likely irrelvant to the recording conditions):"
   ]
  },
  {
   "cell_type": "code",
   "execution_count": 56,
   "id": "c38b8a1d-a47f-4408-a599-56455c34f774",
   "metadata": {},
   "outputs": [
    {
     "name": "stdout",
     "output_type": "stream",
     "text": [
      "\n",
      "Top 20 situation keywords (word, count):\n",
      "[('unspecified', 1299), ('home', 658), ('visit', 561), ('the', 439),\n",
      " ('and', 423), ('on', 397), ('in', 339), (',', 315), ('chi', 277), ('mot', 242),\n",
      " ('with', 240), ('is', 196), ('place', 175), ('to', 164), ('living', 158),\n",
      " ('1', 144), ('3', 143), ('mother', 142), ('room', 140), ('kitchen', 139),\n",
      " ('took', 137), ('sitting', 136), ('of', 135), ('at', 126), ('floor', 123),\n",
      " ('sarah', 122), ('a', 121), ('first', 120), ('session', 111), ('visit;', 110),\n",
      " ('second', 101), ('child', 101), ('table', 93), ('are', 90), ('play', 82),\n",
      " ('couch', 79), ('toys', 76), ('playing', 74), ('her', 72), ('2', 71),\n",
      " ('sat', 66), ('next', 65), ('1;', 60), ('room;', 56), ('book', 49),\n",
      " ('playroom', 48), ('3;', 48), ('as', 47), ('toy', 47), ('(lab)', 46)]\n",
      "\n",
      "Top 20 activity keywords (word, count):\n",
      "[('unspecified', 1668), ('reading', 223), ('toy', 223), ('play', 213),\n",
      " ('report', 210), ('elicited', 208), ('book', 199), ('time', 153),\n",
      " ('meal', 150), ('the', 101), (',', 79), ('and', 74), ('3', 67), ('task', 65),\n",
      " ('explanatory', 64), ('(magnets)', 63), ('2', 55), ('in', 48), ('to', 37),\n",
      " ('animals', 35), ('dog', 32), ('cat', 31), ('investigator', 30), ('wild:', 29),\n",
      " ('elephant', 29), ('with', 26), ('chi', 21), ('3:', 21), ('mot', 19),\n",
      " ('3;', 18), ('is', 18), ('a', 17), ('are', 17), ('number', 17), ('sib', 16),\n",
      " ('on', 15), ('playing', 14), ('1', 13), ('baby', 13), ('of', 11), ('two', 10),\n",
      " ('next', 10), ('room', 10), ('out', 10), ('bag', 10), ('little', 9),\n",
      " ('starts', 9), ('mealtime', 9), ('has', 9), ('(the', 8)]\n",
      "\n",
      "All study type keywords (word, count):\n",
      "[('td', 2547), ('long,', 2169), ('toyplay,', 888), ('preverbal,', 864),\n",
      " ('cross,', 399), ('narrative,', 308), ('meal,', 221), ('book,', 217),\n",
      " ('everyday,', 40), ('reading,', 30), ('aae', 21)]\n"
     ]
    }
   ],
   "source": [
    "from collections import Counter\n",
    "\n",
    "# Function to count keywords in labels\n",
    "def count_keywords(var):  # 'var': the variable which the labels specify\n",
    "    keywords = []            \n",
    "    for f in data_idx[var]:\n",
    "        keywords.extend(f.lower().split())  # get a list of keywords\n",
    "    return Counter(keywords)\n",
    "\n",
    "print('\\nTop 20 situation keywords (word, count):')\n",
    "cp.pprint(count_keywords('situation').most_common(50))\n",
    "\n",
    "print('\\nTop 20 activity keywords (word, count):')\n",
    "cp.pprint(count_keywords('activities').most_common(50))\n",
    "\n",
    "print('\\nAll study type keywords (word, count):') #study type is not as detailed\n",
    "cp.pprint(count_keywords('study_type').most_common())"
   ]
  },
  {
   "cell_type": "markdown",
   "id": "84ab9f75-d3ea-4121-9b79-9dab575e75c4",
   "metadata": {},
   "source": [
    "--\n",
    "\n",
    "From the lists of keywords, we can see that there are a few situations or activities with less natural child-mother interaction, such as book reading, elicited tasks and explanatory tasks (e.g. magnet task in the HSLLD corpus). Therefore, we can drop the entries with labels containing the following keywords:  \n",
    "`read, book, story, elicit, explanatory, magnet`\n",
    "\n",
    "In addition, some files contain maternal interviews where the contents are adult speech instead of child-directed speech. Therefore, we will also drop the entries with labels containing the keyword `interview` too. Besides `situation`, `activities`, and `study_type`, we will also need to look for the keywords in `file_path` as some of these keywords may only appear in the file path (e.g. folder name)."
   ]
  },
  {
   "cell_type": "code",
   "execution_count": 57,
   "id": "b43e76c7-024c-47a1-85c2-0744eafa8ab2",
   "metadata": {},
   "outputs": [
    {
     "name": "stdout",
     "output_type": "stream",
     "text": [
      "\n",
      "Top 20 situation keywords (word, count):\n",
      "[('unspecified', 832), ('home', 287), ('the', 272), ('visit', 268),\n",
      " ('and', 240), (',', 199), ('on', 180), ('in', 164), ('with', 153), ('is', 143),\n",
      " ('mother', 124), ('sarah', 101), ('floor', 96), ('child', 96), ('session', 94),\n",
      " ('of', 84), ('a', 83), ('to', 76), ('kitchen', 76), ('1', 76), ('chi', 75),\n",
      " ('play', 73), ('room', 73), ('mot', 73), ('at', 68), ('living', 67),\n",
      " ('playing', 66), ('3', 65), ('first', 64), ('toys', 64), ('are', 61),\n",
      " ('place', 60), ('sitting', 51), ('playroom', 48), ('took', 46), ('(lab)', 46),\n",
      " ('second', 45), ('freeplay', 44), ('table', 43), ('2', 43), ('meal', 43),\n",
      " ('before', 42), ('time', 42), ('toy', 41), ('her', 37), ('bed', 36),\n",
      " ('tape', 35), ('as', 35), ('visit;', 35), ('this', 30)]\n",
      "\n",
      "Top 20 activity keywords (word, count):\n",
      "[('unspecified', 1221), ('toy', 213), ('play', 205), ('time', 150),\n",
      " ('meal', 149), ('the', 31), ('and', 24), ('with', 23), ('mot', 17),\n",
      " ('chi', 16), ('playing', 13), ('is', 13), ('are', 12), ('sib', 12), ('on', 12),\n",
      " ('in', 11), ('mealtime', 9), ('room', 9), ('out', 9), ('bag', 8),\n",
      " ('starts', 7), ('of', 7), ('has', 7), ('tape', 6), ('living', 6),\n",
      " ('sitting', 6), ('girls', 6), ('a', 6), ('toys', 6), ('to', 5), ('couch', 4),\n",
      " ('pulling', 4), ('rug', 4), ('at', 3), ('eating', 3), (',', 3), ('but', 3),\n",
      " ('it', 3), ('floor', 3), ('puzzle', 3), ('main', 3), ('street', 3), ('set', 3),\n",
      " ('elicted', 2), ('report', 2), ('beginning', 2), ('an', 2), ('mother', 2),\n",
      " ('sister', 2), ('kitchen', 2)]\n",
      "\n",
      "All study type keywords (word, count):\n",
      "[('td', 1592), ('long,', 1288), ('toyplay,', 771), ('preverbal,', 515),\n",
      " ('cross,', 325), ('meal,', 220), ('narrative,', 67), ('everyday,', 40),\n",
      " ('aae', 21)]\n",
      "\n",
      "955 entries were dropped!\n"
     ]
    }
   ],
   "source": [
    "# Files with labels containing these words will be dropped:\n",
    "#   (in regular expression format)\n",
    "drop_keys = 'read|book|story|elicit|explanatory|magnet|interview'  \n",
    "\n",
    "# Select files based and 'drop_keys' and get a list of indices\n",
    "#  (keywords are case-insentive)\n",
    "drop_index = data_idx[data_idx.situation.str.contains(drop_keys, case=False) |\n",
    "                       data_idx.activities.str.contains(drop_keys, case=False) |\n",
    "                       data_idx.study_type.str.contains(drop_keys, case=False) |\n",
    "                       data_idx.file_path.str.contains(drop_keys, case=False)\n",
    "                      ].index\n",
    "\n",
    "# Drop the selected files\n",
    "data_idx.drop(drop_index, inplace=True)\n",
    "\n",
    "# Check keywords again after dropping\n",
    "print('\\nTop 20 situation keywords (word, count):')\n",
    "cp.pprint(count_keywords('situation').most_common(50))\n",
    "\n",
    "print('\\nTop 20 activity keywords (word, count):')\n",
    "cp.pprint(count_keywords('activities').most_common(50))\n",
    "\n",
    "print('\\nAll study type keywords (word, count):') #study type is not as detailed\n",
    "cp.pprint(count_keywords('study_type').most_common())\n",
    "\n",
    "print('\\n{} entries were dropped!' .format(len(drop_index)))"
   ]
  },
  {
   "cell_type": "markdown",
   "id": "1ff20946-b90d-4f0e-89cc-b4c6c9241767",
   "metadata": {
    "jp-MarkdownHeadingCollapsed": true,
    "tags": []
   },
   "source": [
    "---\n",
    "\n",
    "# 6. Add participant identifier (optional)\n",
    "\n",
    "## Example: Matching files by participants\n",
    "\n",
    "You may have noticed from the field `study_type` that some files are labeled with `cross` or `long`. These labels refer to cross-sectional or longitudinal studies. Longitudinal studies are studies where repeated observations are made with the same participants over a period of time. In our dataset, some recordings were made with the same child participants during their development. Therefore, a child participant may have multiple files in a corpus.\n",
    "\n",
    "We may identify all files associated with a child participant by matching the values in the `name` field (name of child participant). However, files with the same child name are not necessarily associated with the same child. For example, \"Adam\" can be found in the Brown and VanHouten corpora:"
   ]
  },
  {
   "cell_type": "code",
   "execution_count": 58,
   "id": "066906c3-d495-47f4-bb7b-56c2383a7216",
   "metadata": {},
   "outputs": [
    {
     "data": {
      "text/plain": [
       "{'Brown', 'VanHouten'}"
      ]
     },
     "execution_count": 58,
     "metadata": {},
     "output_type": "execute_result"
    }
   ],
   "source": [
    "# Corpora containing files with child named 'Adam'\n",
    "set(data_idx[data_idx.name=='Adam'].corpus)"
   ]
  },
  {
   "cell_type": "markdown",
   "id": "dcde3f09-8920-49e9-b89e-0f4b93990528",
   "metadata": {},
   "source": [
    "Therefore, we can't simply identify the files by `name`. Instead, we can combine the corpus name and the child name, and use the combined name as the child's unique identifier (`child_id`)."
   ]
  },
  {
   "cell_type": "code",
   "execution_count": 59,
   "id": "c7d15184-2ce7-437f-a02a-b14f429e9ee2",
   "metadata": {},
   "outputs": [],
   "source": [
    "# Join corpus name and child name\n",
    "child_id = data_idx[['corpus', 'name']].agg('_'.join, axis=1)\n",
    "\n",
    "# Insert a new column for 'child_id' as the 6th column\n",
    "data_idx.insert(5, 'child_id', child_id)"
   ]
  },
  {
   "cell_type": "markdown",
   "id": "201dfc8b-0a1c-4056-bf67-1943be6a0760",
   "metadata": {},
   "source": [
    "Examples:"
   ]
  },
  {
   "cell_type": "code",
   "execution_count": 60,
   "id": "ca0c2437-b806-44b8-82b6-d8cd13755bf1",
   "metadata": {},
   "outputs": [
    {
     "name": "stdout",
     "output_type": "stream",
     "text": [
      "Example: Child ID for 'Adam' in different corpora\n"
     ]
    },
    {
     "data": {
      "text/html": [
       "<div>\n",
       "<style scoped>\n",
       "    .dataframe tbody tr th:only-of-type {\n",
       "        vertical-align: middle;\n",
       "    }\n",
       "\n",
       "    .dataframe tbody tr th {\n",
       "        vertical-align: top;\n",
       "    }\n",
       "\n",
       "    .dataframe thead th {\n",
       "        text-align: right;\n",
       "    }\n",
       "</style>\n",
       "<table border=\"1\" class=\"dataframe\">\n",
       "  <thead>\n",
       "    <tr style=\"text-align: right;\">\n",
       "      <th></th>\n",
       "      <th>file_path</th>\n",
       "      <th>corpus</th>\n",
       "      <th>year</th>\n",
       "      <th>participants</th>\n",
       "      <th>name</th>\n",
       "      <th>child_id</th>\n",
       "      <th>age_d</th>\n",
       "      <th>age_m</th>\n",
       "      <th>sex</th>\n",
       "      <th>group</th>\n",
       "      <th>ses</th>\n",
       "      <th>mot_edu</th>\n",
       "      <th>situation</th>\n",
       "      <th>activities</th>\n",
       "      <th>study_type</th>\n",
       "    </tr>\n",
       "  </thead>\n",
       "  <tbody>\n",
       "    <tr>\n",
       "      <th>142</th>\n",
       "      <td>data/childes/Eng-NA/Brown/Adam/020304.cha</td>\n",
       "      <td>Brown</td>\n",
       "      <td>1962.0</td>\n",
       "      <td>{CHI, URS, COL, RIC, MOT}</td>\n",
       "      <td>Adam</td>\n",
       "      <td>Brown_Adam</td>\n",
       "      <td>814</td>\n",
       "      <td>27.1</td>\n",
       "      <td>male</td>\n",
       "      <td>TD</td>\n",
       "      <td>MC</td>\n",
       "      <td>unspecified</td>\n",
       "      <td>unspecified</td>\n",
       "      <td>unspecified</td>\n",
       "      <td>long, toyplay, TD</td>\n",
       "    </tr>\n",
       "    <tr>\n",
       "      <th>143</th>\n",
       "      <td>data/childes/Eng-NA/Brown/Adam/020318.cha</td>\n",
       "      <td>Brown</td>\n",
       "      <td>1962.0</td>\n",
       "      <td>{URS, CHI, MOT, RIC}</td>\n",
       "      <td>Adam</td>\n",
       "      <td>Brown_Adam</td>\n",
       "      <td>828</td>\n",
       "      <td>27.6</td>\n",
       "      <td>male</td>\n",
       "      <td>TD</td>\n",
       "      <td>MC</td>\n",
       "      <td>unspecified</td>\n",
       "      <td>unspecified</td>\n",
       "      <td>unspecified</td>\n",
       "      <td>long, toyplay, TD</td>\n",
       "    </tr>\n",
       "  </tbody>\n",
       "</table>\n",
       "</div>"
      ],
      "text/plain": [
       "                                     file_path corpus    year  \\\n",
       "142  data/childes/Eng-NA/Brown/Adam/020304.cha  Brown  1962.0   \n",
       "143  data/childes/Eng-NA/Brown/Adam/020318.cha  Brown  1962.0   \n",
       "\n",
       "                  participants  name    child_id  age_d  age_m   sex group  \\\n",
       "142  {CHI, URS, COL, RIC, MOT}  Adam  Brown_Adam    814   27.1  male    TD   \n",
       "143       {URS, CHI, MOT, RIC}  Adam  Brown_Adam    828   27.6  male    TD   \n",
       "\n",
       "    ses      mot_edu    situation   activities         study_type  \n",
       "142  MC  unspecified  unspecified  unspecified  long, toyplay, TD  \n",
       "143  MC  unspecified  unspecified  unspecified  long, toyplay, TD  "
      ]
     },
     "metadata": {},
     "output_type": "display_data"
    },
    {
     "data": {
      "text/html": [
       "<div>\n",
       "<style scoped>\n",
       "    .dataframe tbody tr th:only-of-type {\n",
       "        vertical-align: middle;\n",
       "    }\n",
       "\n",
       "    .dataframe tbody tr th {\n",
       "        vertical-align: top;\n",
       "    }\n",
       "\n",
       "    .dataframe thead th {\n",
       "        text-align: right;\n",
       "    }\n",
       "</style>\n",
       "<table border=\"1\" class=\"dataframe\">\n",
       "  <thead>\n",
       "    <tr style=\"text-align: right;\">\n",
       "      <th></th>\n",
       "      <th>file_path</th>\n",
       "      <th>corpus</th>\n",
       "      <th>year</th>\n",
       "      <th>participants</th>\n",
       "      <th>name</th>\n",
       "      <th>child_id</th>\n",
       "      <th>age_d</th>\n",
       "      <th>age_m</th>\n",
       "      <th>sex</th>\n",
       "      <th>group</th>\n",
       "      <th>ses</th>\n",
       "      <th>mot_edu</th>\n",
       "      <th>situation</th>\n",
       "      <th>activities</th>\n",
       "      <th>study_type</th>\n",
       "    </tr>\n",
       "  </thead>\n",
       "  <tbody>\n",
       "    <tr>\n",
       "      <th>2603</th>\n",
       "      <td>data/childes/Eng-NA/VanHouten/Twos/teaching/lu...</td>\n",
       "      <td>VanHouten</td>\n",
       "      <td>NaN</td>\n",
       "      <td>{CHI, MOT}</td>\n",
       "      <td>Adam</td>\n",
       "      <td>VanHouten_Adam</td>\n",
       "      <td>840</td>\n",
       "      <td>28.0</td>\n",
       "      <td>male</td>\n",
       "      <td>TD</td>\n",
       "      <td>unspecified</td>\n",
       "      <td>HS</td>\n",
       "      <td>Teaching. Mother and Child sitting on floor. F...</td>\n",
       "      <td>unspecified</td>\n",
       "      <td>cross, toyplay, TD</td>\n",
       "    </tr>\n",
       "    <tr>\n",
       "      <th>2605</th>\n",
       "      <td>data/childes/Eng-NA/VanHouten/Twos/teaching/ni...</td>\n",
       "      <td>VanHouten</td>\n",
       "      <td>NaN</td>\n",
       "      <td>{CHI, MOT}</td>\n",
       "      <td>Adam</td>\n",
       "      <td>VanHouten_Adam</td>\n",
       "      <td>840</td>\n",
       "      <td>28.0</td>\n",
       "      <td>male</td>\n",
       "      <td>TD</td>\n",
       "      <td>unspecified</td>\n",
       "      <td>unspecified</td>\n",
       "      <td>Teaching. Mother and Child sit on the living+r...</td>\n",
       "      <td>unspecified</td>\n",
       "      <td>cross, toyplay, TD</td>\n",
       "    </tr>\n",
       "  </tbody>\n",
       "</table>\n",
       "</div>"
      ],
      "text/plain": [
       "                                              file_path     corpus  year  \\\n",
       "2603  data/childes/Eng-NA/VanHouten/Twos/teaching/lu...  VanHouten   NaN   \n",
       "2605  data/childes/Eng-NA/VanHouten/Twos/teaching/ni...  VanHouten   NaN   \n",
       "\n",
       "     participants  name        child_id  age_d  age_m   sex group  \\\n",
       "2603   {CHI, MOT}  Adam  VanHouten_Adam    840   28.0  male    TD   \n",
       "2605   {CHI, MOT}  Adam  VanHouten_Adam    840   28.0  male    TD   \n",
       "\n",
       "              ses      mot_edu  \\\n",
       "2603  unspecified           HS   \n",
       "2605  unspecified  unspecified   \n",
       "\n",
       "                                              situation   activities  \\\n",
       "2603  Teaching. Mother and Child sitting on floor. F...  unspecified   \n",
       "2605  Teaching. Mother and Child sit on the living+r...  unspecified   \n",
       "\n",
       "              study_type  \n",
       "2603  cross, toyplay, TD  \n",
       "2605  cross, toyplay, TD  "
      ]
     },
     "metadata": {},
     "output_type": "display_data"
    }
   ],
   "source": [
    "# Print example\n",
    "print(\"Example: Child ID for 'Adam' in different corpora\")\n",
    "display(data_idx[data_idx.name=='Adam'].head(2))\n",
    "display(data_idx[data_idx.name=='Adam'].tail(2))"
   ]
  },
  {
   "cell_type": "markdown",
   "id": "1525dc7d-a787-4014-a052-aff2722ddde4",
   "metadata": {},
   "source": [
    "### Overview of participant demographics in our dataset"
   ]
  },
  {
   "cell_type": "code",
   "execution_count": 61,
   "id": "9800c76f-fdab-46d1-a660-2c2016483a56",
   "metadata": {},
   "outputs": [
    {
     "data": {
      "image/png": "[encoded data removed]",
      "text/plain": [
       "<Figure size 720x1008 with 6 Axes>"
      ]
     },
     "metadata": {
      "needs_background": "light"
     },
     "output_type": "display_data"
    }
   ],
   "source": [
    "import matplotlib.pyplot as plt\n",
    "\n",
    "# Data for plotting\n",
    "# Count files by 'sex', 'ses', 'mot_edu' or 'group'; count dropped files\n",
    "sex_count = data_idx.groupby('sex').aggregate('count').file_path\n",
    "ses_count = data_idx.groupby('ses').aggregate('count').file_path\n",
    "mot_edu_count = data_idx.groupby('mot_edu').aggregate('count').file_path\n",
    "group_count = data_idx.groupby('group').aggregate('count').file_path\n",
    "total_count = pd.Series({'Remaining files':len(data_idx),\n",
    "                         'Dropped files':len(drop_index)+n_drop_group})\n",
    "\n",
    "# ==============================================================================\n",
    "# Create a figure object\n",
    "\n",
    "# Subplot dimension ratio\n",
    "gs_kw = dict(width_ratios=[1,1,1], height_ratios=[1,4,0.2])\n",
    "\n",
    "# Create a figure with 6 axes (i.e. 6 subplots), namely A, B, C, D, E, F\n",
    "fig, ax = plt.subplot_mosaic([['A', 'A', 'B'],  # A spans across two grids\n",
    "                              ['C', 'D', 'E'],\n",
    "                              ['F', 'F', 'F']], # F spans across three grids                            \n",
    "                              gridspec_kw=gs_kw, figsize=(10,14),\n",
    "                              constrained_layout=True)\n",
    "cmap = plt.cm.YlGn  # color map\n",
    "accent_color = cmap(0.7)\n",
    "\n",
    "# ==============================================================================\n",
    "# Plotting\n",
    "\n",
    "# ------------------------------------------------------------------------------\n",
    "# Plot A\n",
    "ax['A'].hist(data_idx.age_m, 72, histtype='step', color=accent_color, lw=1.3)\n",
    "\n",
    "# ------------------------------------------------------------------------------\n",
    "# Plot B to E\n",
    "\n",
    "def plot_stack(ax_idx, data, colors, thres=0):\n",
    "    data = data.sort_values(ascending=False)  # sort by count\n",
    "    data_pc = data/sum(data)*100  # get percentage from count\n",
    "    curr_sum = 0  # percentage sum (required for stacking bars)\n",
    "    for i, pc in enumerate(data_pc):\n",
    "        ax[ax_idx].bar('x', pc, label=data_pc.index[i], bottom=curr_sum,\n",
    "                       color=colors[i], edgecolor='w', linewidth=1)\n",
    "        curr_sum = curr_sum + pc  # for stacking bars  \n",
    "        # make label\n",
    "        if data.index[i] == '':\n",
    "            label = \"Unspecified ({})\".format(data[i]).upper()\n",
    "        elif pc >= thres:\n",
    "            label = \"{} ({})\".format(data.index[i], data[i]).upper()\n",
    "        else: label = ''\n",
    "        label_ypos = curr_sum - (pc/2)\n",
    "        ax[ax_idx].text(0, label_ypos, label, ha=\"center\", va=\"center\")\n",
    "\n",
    "for k, v in {'B':sex_count, 'C':ses_count, \n",
    "             'D':mot_edu_count, 'E':group_count}.items():\n",
    "    if k == 'B':\n",
    "        thres = 0\n",
    "        colors = cmap(np.linspace(0.2, 0.5, len(v)))\n",
    "    else:\n",
    "        thres = 2\n",
    "        colors = cmap(np.linspace(0.2, 0.8, len(v)))            \n",
    "    plot_stack(k, v, colors, thres)\n",
    "\n",
    "# ------------------------------------------------------------------------------\n",
    "# Plot F\n",
    "total_count = total_count.sort_values(ascending=False)  # sort by count\n",
    "total_pc = total_count/sum(total_count)*100  # get percentage from count\n",
    "colors = [plt.cm.YlGn(0.6), '0.8']\n",
    "curr_sum = 0  # percentage sum (required for stacking bars)\n",
    "for i, pc in enumerate(total_pc):\n",
    "    ax['F'].barh('x', pc, label=total_pc.index[i], left=curr_sum,\n",
    "                 color=colors[i], edgecolor='w', linewidth=0.5)\n",
    "    curr_sum = curr_sum + pc    \n",
    "    # make label\n",
    "    label = \"{} ({})\".format(total_count.index[i], total_count[i]).upper()  \n",
    "    label_xpos = curr_sum - (pc/2)\n",
    "    ax['F'].text(label_xpos, 0, label, ha=\"center\", va=\"center\", c='k')    \n",
    "\n",
    "# ------------------------------------------------------------------------------\n",
    "# Formatting\n",
    "\n",
    "# Subplot A settings\n",
    "ax['A'].set_xlabel('Age (months)', size=12)\n",
    "ax['A'].set_ylabel('Number of files', size=12)\n",
    "ax['A'].set_ylim([-10,250])\n",
    "ax['A'].spines[['top', 'right']].set_visible(False)\n",
    "ax['A'].grid(axis='both', color='w')\n",
    "ax['A'].set_facecolor('0.9')\n",
    "\n",
    "# Subplots B-E settings\n",
    "for i in ['B','C','D','E']:\n",
    "    ax[i].get_xaxis().set_visible(False)\n",
    "    ax[i].set_ylabel('Percentage total, %', size=12)\n",
    "    ax[i].set_ylim([0,100])\n",
    "    ax[i].spines[['top','bottom', 'right']].set_visible(False)\n",
    "    if i in ['B','D','E']:\n",
    "        ax[i].get_yaxis().set_visible(False)\n",
    "        ax[i].get_yaxis().set_visible(False)\n",
    "        ax[i].spines['left'].set_visible(False)        \n",
    "ax['D'].text(0,-2,'*Categories <2% not shown', ha=\"center\", va=\"top\", size=12)\n",
    "\n",
    "# Subplot F settings\n",
    "ax['F'].get_yaxis().set_visible(False)\n",
    "ax['F'].set_xlabel('Percentage total, %', size=12)\n",
    "ax['F'].set_xlim([0,100])\n",
    "ax['F'].spines[:].set_visible(False)\n",
    "\n",
    "# Set subplot titles\n",
    "ax['A'].set_title('\\nA. Age\\n', loc='left', size=15)\n",
    "ax['B'].set_title('\\nB. Sex\\n', loc='left', size=15)\n",
    "ax['C'].set_title('\\nC. Socioeconomic status\\n', loc='left', size=15)\n",
    "ax['D'].set_title('\\nD. Mother\\'s education*\\n', loc='left', size=15)\n",
    "ax['E'].set_title('\\nE. Group\\n', loc = 'left', size=15)\n",
    "ax['F'].set_title('\\nF. Total number of files\\n', loc='left', size=15)\n",
    "\n",
    "# Set figure title\n",
    "fig.suptitle('Demographics of child participants after data preprocessing\\n(Note: some children have multiple files)', fontsize=18)\n",
    "\n",
    "# Save figure\n",
    "# plt.savefig('../reports/images/child_demgph_processed.svg', bbox_inches='tight', dpi=150)\n",
    "plt.show()"
   ]
  },
  {
   "cell_type": "markdown",
   "id": "79d3bc6c-269a-4dbe-a353-c42715eaf35e",
   "metadata": {
    "jp-MarkdownHeadingCollapsed": true,
    "tags": []
   },
   "source": [
    "# 7. Save the cleaned index table\n",
    "\n",
    "You may use the index table, `data_idx`, for retrieving data in your dataset. Save the table for data analysis later."
   ]
  },
  {
   "cell_type": "code",
   "execution_count": 62,
   "id": "76a34e50-5d03-4f7a-ad05-6a36d12f7428",
   "metadata": {},
   "outputs": [
    {
     "name": "stdout",
     "output_type": "stream",
     "text": [
      "Cleaned 'data_idx' was saved as 'data/data_idx_cleaned.pkl'. \n"
     ]
    }
   ],
   "source": [
    "# Save cleaned 'data_idx' as 'data/data_idx_cleaned.pkl'\n",
    "with open('data/data_idx_cleaned.pkl', 'wb') as f:\n",
    "    pickle.dump(data_idx, f, -1)    \n",
    "print(\"Cleaned 'data_idx' was saved as 'data/data_idx_cleaned.pkl'. \")"
   ]
  },
  {
   "cell_type": "code",
   "execution_count": null,
   "id": "1c4f82c4-99a6-4ce4-a2f8-8d677f116f24",
   "metadata": {},
   "outputs": [],
   "source": [
    "# Uncomment the following lines to read data into readers and export as pickle\n",
    "\n",
    "# corpus_readers = [pylangacq.Reader.from_dir(d) for d in tqdm(paths['local_path'])]\n",
    "# with open('data/corpus_readers.pkl', 'wb') as f:\n",
    "#     pickle.dump(corpus_readers, f, -1)    \n",
    "# print(\"'corpus_readers' was saved as 'data/corpus_readers.pkl'. \")"
   ]
  }
 ],
 "metadata": {
  "kernelspec": {
   "display_name": "Python 3 (ipykernel)",
   "language": "python",
   "name": "python3"
  },
  "language_info": {
   "codemirror_mode": {
    "name": "ipython",
    "version": 3
   },
   "file_extension": ".py",
   "mimetype": "text/x-python",
   "name": "python",
   "nbconvert_exporter": "python",
   "pygments_lexer": "ipython3",
   "version": "3.9.7"
  }
 },
 "nbformat": 4,
 "nbformat_minor": 5
}
